{
 "cells": [
  {
   "cell_type": "code",
   "execution_count": 207,
   "id": "2895360e-7d16-4692-afb8-4dd51d46023a",
   "metadata": {},
   "outputs": [],
   "source": [
    "import pandas as pd\n",
    "import numpy as np"
   ]
  },
  {
   "cell_type": "code",
   "execution_count": 208,
   "id": "30049a10-5daf-41e1-9dae-eed355f2ae6d",
   "metadata": {},
   "outputs": [],
   "source": [
    "df = pd.read_csv('BooksDataset.csv')"
   ]
  },
  {
   "cell_type": "code",
   "execution_count": 209,
   "id": "e46ad0cb-9597-49e5-96d0-fc4c64730f69",
   "metadata": {},
   "outputs": [],
   "source": [
    "df = df.head(30000)"
   ]
  },
  {
   "cell_type": "code",
   "execution_count": 210,
   "id": "043f08f4-1106-47c4-bcbe-32e5c358978e",
   "metadata": {},
   "outputs": [
    {
     "name": "stdout",
     "output_type": "stream",
     "text": [
      "<class 'pandas.core.frame.DataFrame'>\n",
      "RangeIndex: 30000 entries, 0 to 29999\n",
      "Data columns (total 7 columns):\n",
      " #   Column        Non-Null Count  Dtype \n",
      "---  ------        --------------  ----- \n",
      " 0   Title         30000 non-null  object\n",
      " 1   Authors       30000 non-null  object\n",
      " 2   Description   20600 non-null  object\n",
      " 3   Category      22141 non-null  object\n",
      " 4   Publisher     30000 non-null  object\n",
      " 5   Publish Date  30000 non-null  object\n",
      " 6   Price         30000 non-null  object\n",
      "dtypes: object(7)\n",
      "memory usage: 1.6+ MB\n"
     ]
    }
   ],
   "source": [
    "df.info()"
   ]
  },
  {
   "cell_type": "code",
   "execution_count": 211,
   "id": "4425b4c2-cdce-4fcf-b29e-7ee138a18838",
   "metadata": {},
   "outputs": [],
   "source": [
    "df.dropna(subset=['Description'], inplace=True)"
   ]
  },
  {
   "cell_type": "code",
   "execution_count": 212,
   "id": "0b86bb30-9149-4e2c-85ab-719c96bf93cc",
   "metadata": {},
   "outputs": [
    {
     "name": "stdout",
     "output_type": "stream",
     "text": [
      "<class 'pandas.core.frame.DataFrame'>\n",
      "Index: 20600 entries, 7 to 29999\n",
      "Data columns (total 7 columns):\n",
      " #   Column        Non-Null Count  Dtype \n",
      "---  ------        --------------  ----- \n",
      " 0   Title         20600 non-null  object\n",
      " 1   Authors       20600 non-null  object\n",
      " 2   Description   20600 non-null  object\n",
      " 3   Category      18765 non-null  object\n",
      " 4   Publisher     20600 non-null  object\n",
      " 5   Publish Date  20600 non-null  object\n",
      " 6   Price         20600 non-null  object\n",
      "dtypes: object(7)\n",
      "memory usage: 1.3+ MB\n"
     ]
    }
   ],
   "source": [
    "df.info()"
   ]
  },
  {
   "cell_type": "code",
   "execution_count": 213,
   "id": "3dd2c4f8-45c0-4335-8b80-ef86ea5c2c0a",
   "metadata": {},
   "outputs": [],
   "source": [
    "df.dropna(subset=['Category'], inplace=True)"
   ]
  },
  {
   "cell_type": "code",
   "execution_count": 214,
   "id": "6804cb9f-a717-4397-9127-24ae9fe7cbc0",
   "metadata": {},
   "outputs": [
    {
     "name": "stdout",
     "output_type": "stream",
     "text": [
      "<class 'pandas.core.frame.DataFrame'>\n",
      "Index: 18765 entries, 7 to 29999\n",
      "Data columns (total 7 columns):\n",
      " #   Column        Non-Null Count  Dtype \n",
      "---  ------        --------------  ----- \n",
      " 0   Title         18765 non-null  object\n",
      " 1   Authors       18765 non-null  object\n",
      " 2   Description   18765 non-null  object\n",
      " 3   Category      18765 non-null  object\n",
      " 4   Publisher     18765 non-null  object\n",
      " 5   Publish Date  18765 non-null  object\n",
      " 6   Price         18765 non-null  object\n",
      "dtypes: object(7)\n",
      "memory usage: 1.1+ MB\n"
     ]
    }
   ],
   "source": [
    "df.info()"
   ]
  },
  {
   "cell_type": "code",
   "execution_count": 215,
   "id": "65948625-87c9-445b-a918-1e030bb26908",
   "metadata": {},
   "outputs": [],
   "source": [
    "df.drop(columns=['Publish Date','Price'],inplace = True)"
   ]
  },
  {
   "cell_type": "code",
   "execution_count": 216,
   "id": "1cd190ed-35d3-45d5-b709-57f23bee1cc2",
   "metadata": {},
   "outputs": [
    {
     "data": {
      "text/html": [
       "<div>\n",
       "<style scoped>\n",
       "    .dataframe tbody tr th:only-of-type {\n",
       "        vertical-align: middle;\n",
       "    }\n",
       "\n",
       "    .dataframe tbody tr th {\n",
       "        vertical-align: top;\n",
       "    }\n",
       "\n",
       "    .dataframe thead th {\n",
       "        text-align: right;\n",
       "    }\n",
       "</style>\n",
       "<table border=\"1\" class=\"dataframe\">\n",
       "  <thead>\n",
       "    <tr style=\"text-align: right;\">\n",
       "      <th></th>\n",
       "      <th>Title</th>\n",
       "      <th>Authors</th>\n",
       "      <th>Description</th>\n",
       "      <th>Category</th>\n",
       "      <th>Publisher</th>\n",
       "    </tr>\n",
       "  </thead>\n",
       "  <tbody>\n",
       "    <tr>\n",
       "      <th>7</th>\n",
       "      <td>Journey Through Heartsongs</td>\n",
       "      <td>By Stepanek, Mattie J. T.</td>\n",
       "      <td>Collects poems written by the eleven-year-old ...</td>\n",
       "      <td>Poetry , General</td>\n",
       "      <td>VSP Books</td>\n",
       "    </tr>\n",
       "    <tr>\n",
       "      <th>8</th>\n",
       "      <td>In Search of Melancholy Baby</td>\n",
       "      <td>By Aksyonov, Vassily, Heim, Michael Henry, and...</td>\n",
       "      <td>The Russian author offers an affectionate chro...</td>\n",
       "      <td>Biography &amp; Autobiography , General</td>\n",
       "      <td>Random House</td>\n",
       "    </tr>\n",
       "    <tr>\n",
       "      <th>10</th>\n",
       "      <td>The Dieter's Guide to Weight Loss During Sex</td>\n",
       "      <td>By Smith, Richard</td>\n",
       "      <td>A humor classic, this tongue-in-cheek diet pla...</td>\n",
       "      <td>Health &amp; Fitness , Diet &amp; Nutrition , Diets</td>\n",
       "      <td>Workman Publishing Company</td>\n",
       "    </tr>\n",
       "    <tr>\n",
       "      <th>11</th>\n",
       "      <td>Germs : Biological Weapons and America's Secre...</td>\n",
       "      <td>By Miller, Judith, Engelberg, Stephen, and Bro...</td>\n",
       "      <td>Deadly germs sprayed in shopping malls, bomb-l...</td>\n",
       "      <td>Technology &amp; Engineering , Military Science</td>\n",
       "      <td>Simon &amp; Schuster</td>\n",
       "    </tr>\n",
       "    <tr>\n",
       "      <th>13</th>\n",
       "      <td>The Good Book: Reading the Bible with Mind and...</td>\n",
       "      <td>By Gomes, Peter J.</td>\n",
       "      <td>\"The Bible and the social and moral consequenc...</td>\n",
       "      <td>Religion , Biblical Biography , General</td>\n",
       "      <td>Harper Perennial</td>\n",
       "    </tr>\n",
       "  </tbody>\n",
       "</table>\n",
       "</div>"
      ],
      "text/plain": [
       "                                                Title  \\\n",
       "7                          Journey Through Heartsongs   \n",
       "8                        In Search of Melancholy Baby   \n",
       "10       The Dieter's Guide to Weight Loss During Sex   \n",
       "11  Germs : Biological Weapons and America's Secre...   \n",
       "13  The Good Book: Reading the Bible with Mind and...   \n",
       "\n",
       "                                              Authors  \\\n",
       "7                           By Stepanek, Mattie J. T.   \n",
       "8   By Aksyonov, Vassily, Heim, Michael Henry, and...   \n",
       "10                                  By Smith, Richard   \n",
       "11  By Miller, Judith, Engelberg, Stephen, and Bro...   \n",
       "13                                 By Gomes, Peter J.   \n",
       "\n",
       "                                          Description  \\\n",
       "7   Collects poems written by the eleven-year-old ...   \n",
       "8   The Russian author offers an affectionate chro...   \n",
       "10  A humor classic, this tongue-in-cheek diet pla...   \n",
       "11  Deadly germs sprayed in shopping malls, bomb-l...   \n",
       "13  \"The Bible and the social and moral consequenc...   \n",
       "\n",
       "                                        Category                   Publisher  \n",
       "7                               Poetry , General                   VSP Books  \n",
       "8            Biography & Autobiography , General                Random House  \n",
       "10   Health & Fitness , Diet & Nutrition , Diets  Workman Publishing Company  \n",
       "11   Technology & Engineering , Military Science            Simon & Schuster  \n",
       "13       Religion , Biblical Biography , General            Harper Perennial  "
      ]
     },
     "execution_count": 216,
     "metadata": {},
     "output_type": "execute_result"
    }
   ],
   "source": [
    "df.head()"
   ]
  },
  {
   "cell_type": "code",
   "execution_count": 217,
   "id": "72adf0f1-67a7-4b91-befb-74308fb1fe4b",
   "metadata": {},
   "outputs": [
    {
     "data": {
      "text/plain": [
       "7                                By Stepanek, Mattie J. T.\n",
       "8        By Aksyonov, Vassily, Heim, Michael Henry, and...\n",
       "10                                       By Smith, Richard\n",
       "11       By Miller, Judith, Engelberg, Stephen, and Bro...\n",
       "13                                      By Gomes, Peter J.\n",
       "                               ...                        \n",
       "29994                                       By Arthur, Kay\n",
       "29995         By Robledo, Maria (PHT) and Iovine, Julie V.\n",
       "29996                 By Fox, Larry and Radin-Fox, Barbara\n",
       "29997                                      By Roth, Philip\n",
       "29999                                    By Alterman, Eric\n",
       "Name: Authors, Length: 18765, dtype: object"
      ]
     },
     "execution_count": 217,
     "metadata": {},
     "output_type": "execute_result"
    }
   ],
   "source": [
    "df['Authors']"
   ]
  },
  {
   "cell_type": "code",
   "execution_count": 218,
   "id": "251f9e5d-4673-4ebe-a84a-dbf32b27eb96",
   "metadata": {},
   "outputs": [],
   "source": [
    "df.reset_index(drop=True, inplace=True)"
   ]
  },
  {
   "cell_type": "code",
   "execution_count": 219,
   "id": "9bfae887-ee29-454c-8e15-e6717eab743d",
   "metadata": {},
   "outputs": [
    {
     "data": {
      "text/plain": [
       "0                                By Stepanek, Mattie J. T.\n",
       "1        By Aksyonov, Vassily, Heim, Michael Henry, and...\n",
       "2                                        By Smith, Richard\n",
       "3        By Miller, Judith, Engelberg, Stephen, and Bro...\n",
       "4                                       By Gomes, Peter J.\n",
       "                               ...                        \n",
       "18760                                       By Arthur, Kay\n",
       "18761         By Robledo, Maria (PHT) and Iovine, Julie V.\n",
       "18762                 By Fox, Larry and Radin-Fox, Barbara\n",
       "18763                                      By Roth, Philip\n",
       "18764                                    By Alterman, Eric\n",
       "Name: Authors, Length: 18765, dtype: object"
      ]
     },
     "execution_count": 219,
     "metadata": {},
     "output_type": "execute_result"
    }
   ],
   "source": [
    "df['Authors']"
   ]
  },
  {
   "cell_type": "code",
   "execution_count": 220,
   "id": "d2762d2f-97d7-49aa-8e29-bb7b9ea2ce7e",
   "metadata": {},
   "outputs": [],
   "source": [
    "df['tags'] = df['Authors']+df['Description']+df['Category']+df['Publisher']"
   ]
  },
  {
   "cell_type": "code",
   "execution_count": 221,
   "id": "160ac77d-f317-47c8-a5ea-788997940a08",
   "metadata": {},
   "outputs": [
    {
     "data": {
      "text/plain": [
       "0        By Stepanek, Mattie J. T.Collects poems writte...\n",
       "1        By Aksyonov, Vassily, Heim, Michael Henry, and...\n",
       "2        By Smith, RichardA humor classic, this tongue-...\n",
       "3        By Miller, Judith, Engelberg, Stephen, and Bro...\n",
       "4        By Gomes, Peter J.\"The Bible and the social an...\n",
       "                               ...                        \n",
       "18760    By Arthur, KayUsing the bible has a starting p...\n",
       "18761    By Robledo, Maria (PHT) and Iovine, Julie V.An...\n",
       "18762    By Fox, Larry and Radin-Fox, BarbaraRevised gu...\n",
       "18763    By Roth, PhilipA chronicle of the passion and ...\n",
       "18764    By Alterman, EricNever in our history has the ...\n",
       "Name: tags, Length: 18765, dtype: object"
      ]
     },
     "execution_count": 221,
     "metadata": {},
     "output_type": "execute_result"
    }
   ],
   "source": [
    "df['tags']"
   ]
  },
  {
   "cell_type": "code",
   "execution_count": 222,
   "id": "907c206c-a970-4536-8586-b22f1b8f23ac",
   "metadata": {},
   "outputs": [],
   "source": [
    "df['tags'] = df['tags'].str.replace('By', '')"
   ]
  },
  {
   "cell_type": "code",
   "execution_count": 223,
   "id": "1c626093-0f95-4d06-9895-dd8942a766bf",
   "metadata": {},
   "outputs": [
    {
     "data": {
      "text/plain": [
       "0         Stepanek, Mattie J. T.Collects poems written ...\n",
       "1         Aksyonov, Vassily, Heim, Michael Henry, and B...\n",
       "2         Smith, RichardA humor classic, this tongue-in...\n",
       "3         Miller, Judith, Engelberg, Stephen, and Broad...\n",
       "4         Gomes, Peter J.\"The Bible and the social and ...\n",
       "                               ...                        \n",
       "18760     Arthur, KayUsing the bible has a starting pla...\n",
       "18761     Robledo, Maria (PHT) and Iovine, Julie V.An i...\n",
       "18762     Fox, Larry and Radin-Fox, BarbaraRevised guid...\n",
       "18763     Roth, PhilipA chronicle of the passion and de...\n",
       "18764     Alterman, EricNever in our history has the Am...\n",
       "Name: tags, Length: 18765, dtype: object"
      ]
     },
     "execution_count": 223,
     "metadata": {},
     "output_type": "execute_result"
    }
   ],
   "source": [
    "df['tags']"
   ]
  },
  {
   "cell_type": "code",
   "execution_count": 224,
   "id": "52a50979-65a3-4b15-ba7d-a9937c4f90c2",
   "metadata": {},
   "outputs": [
    {
     "data": {
      "text/plain": [
       "7"
      ]
     },
     "execution_count": 224,
     "metadata": {},
     "output_type": "execute_result"
    }
   ],
   "source": [
    "df.duplicated().sum()"
   ]
  },
  {
   "cell_type": "code",
   "execution_count": 225,
   "id": "8c59b39b-6021-424a-a6ed-2fc603962dc7",
   "metadata": {},
   "outputs": [],
   "source": [
    "df=df.drop_duplicates()"
   ]
  },
  {
   "cell_type": "code",
   "execution_count": 226,
   "id": "b8680388-231a-48c9-91c3-74a9dfef6f62",
   "metadata": {},
   "outputs": [
    {
     "data": {
      "text/plain": [
       "' Hildebrand, Ron (ILT) and Merwin, JohnNorton proudly reissues these best-selling guides with fully revised \"Sources &  Resources\" sections (including where to  find the Web sites, gear, services, books,  clubs, and organizations that make for foolproof outings); updates to reflect the latest in gear  technology, wilderness medicine, and first aid;  and advances in techniques.You can take it  with you: Trailside Guides are designed to be  used on the trail. Their handy size makes them  easy to take along on outdoor  adventures.Picture this: Trailside Guides show  you how it\\'s done. Each book has more than 100  color photographs and dozens of informative,  full-color technical illustrations you\\'ll refer to again and again.Buying Guide: Each Guide has  all the information readers need to make  informed decisions about what gear is available, and what they should buy.Step-by-step: Tutorials take readers through every aspect of a given  outdoor activity. Each Guide covers planning and preparing for a trip, getting in shape,  technique, safety, and first-aid tips, and how  to have more fun along the way!Easy to use:  Trailside Guides provide information quickly.  Every book contains detailed illustrations,  information-packed sidebars, and a complete  index and bibliography.Technique tips: Any  physical activity is more fun when it\\'s done  right. Trailside Guides are written by experts  and contain lucid explanations that help the  reader quickly achieve proficiency.It\\'s a  big world out there. Get into it with the  Trailside Guides. Sports & Recreation , FishingW. W. Norton & Company'"
      ]
     },
     "execution_count": 226,
     "metadata": {},
     "output_type": "execute_result"
    }
   ],
   "source": [
    "df['tags'][56]"
   ]
  },
  {
   "cell_type": "code",
   "execution_count": 227,
   "id": "bf6587a0-d1cb-498a-aea3-1e7cc6721a4c",
   "metadata": {},
   "outputs": [],
   "source": [
    "import re"
   ]
  },
  {
   "cell_type": "code",
   "execution_count": 228,
   "id": "b7091b09-a62e-4e01-8b91-f063a420303a",
   "metadata": {},
   "outputs": [],
   "source": [
    "def clean(text):\n",
    "    clean_text = re.sub(r'[^\\w\\s]', '', text)\n",
    "    return clean_text"
   ]
  },
  {
   "cell_type": "code",
   "execution_count": 229,
   "id": "3a3765f4-473e-4f96-8156-8f03c0bbc46f",
   "metadata": {},
   "outputs": [],
   "source": [
    "df['tags'] = df['tags'].apply(clean)"
   ]
  },
  {
   "cell_type": "code",
   "execution_count": 230,
   "id": "566d8b1f-045a-4d60-894b-d627d0f3a6b8",
   "metadata": {},
   "outputs": [],
   "source": [
    "df['tags_list'] = df['tags'].str.split()"
   ]
  },
  {
   "cell_type": "code",
   "execution_count": 231,
   "id": "17990322-7c0b-4398-a291-f0c5adccdac5",
   "metadata": {},
   "outputs": [],
   "source": [
    "x = []\n",
    "for i in df['tags_list'][0]:\n",
    "    x.append(stem(i))"
   ]
  },
  {
   "cell_type": "code",
   "execution_count": 232,
   "id": "c5d6e642-0047-43f9-a4e3-9a66c509a494",
   "metadata": {},
   "outputs": [
    {
     "data": {
      "text/plain": [
       "['stepanek',\n",
       " 'matti',\n",
       " 'j',\n",
       " 'tcollect',\n",
       " 'poem',\n",
       " 'written',\n",
       " 'by',\n",
       " 'the',\n",
       " 'elevenyearold',\n",
       " 'muscular',\n",
       " 'dystrophi',\n",
       " 'patient',\n",
       " 'share',\n",
       " 'hi',\n",
       " 'feel',\n",
       " 'and',\n",
       " 'thought',\n",
       " 'about',\n",
       " 'hi',\n",
       " 'life',\n",
       " 'the',\n",
       " 'death',\n",
       " 'of',\n",
       " 'hi',\n",
       " 'sibl',\n",
       " 'natur',\n",
       " 'faith',\n",
       " 'and',\n",
       " 'hope',\n",
       " 'poetri',\n",
       " 'generalvsp',\n",
       " 'book']"
      ]
     },
     "execution_count": 232,
     "metadata": {},
     "output_type": "execute_result"
    }
   ],
   "source": [
    "x"
   ]
  },
  {
   "cell_type": "code",
   "execution_count": 233,
   "id": "c2e6a2f6-c7a3-4ea8-aca9-074953e4f467",
   "metadata": {},
   "outputs": [],
   "source": [
    "from nltk.corpus import stopwords"
   ]
  },
  {
   "cell_type": "code",
   "execution_count": 234,
   "id": "11cb251f-58b1-4455-b84c-1aa17721e620",
   "metadata": {},
   "outputs": [],
   "source": [
    "all_stopwords = stopwords.words('english')\n",
    "all_stopwords.remove('not')"
   ]
  },
  {
   "cell_type": "code",
   "execution_count": 235,
   "id": "aa118901-6c9c-487c-bd13-b8897216e401",
   "metadata": {},
   "outputs": [],
   "source": [
    "y = []\n",
    "for word in x:\n",
    "    if not word in all_stopwords:\n",
    "        y.append(word)"
   ]
  },
  {
   "cell_type": "code",
   "execution_count": 236,
   "id": "a37c77fe-b3ae-4afb-a53d-5461485f37c8",
   "metadata": {},
   "outputs": [
    {
     "data": {
      "text/plain": [
       "['stepanek',\n",
       " 'matti',\n",
       " 'j',\n",
       " 'tcollect',\n",
       " 'poem',\n",
       " 'written',\n",
       " 'elevenyearold',\n",
       " 'muscular',\n",
       " 'dystrophi',\n",
       " 'patient',\n",
       " 'share',\n",
       " 'hi',\n",
       " 'feel',\n",
       " 'thought',\n",
       " 'hi',\n",
       " 'life',\n",
       " 'death',\n",
       " 'hi',\n",
       " 'sibl',\n",
       " 'natur',\n",
       " 'faith',\n",
       " 'hope',\n",
       " 'poetri',\n",
       " 'generalvsp',\n",
       " 'book']"
      ]
     },
     "execution_count": 236,
     "metadata": {},
     "output_type": "execute_result"
    }
   ],
   "source": [
    "y"
   ]
  },
  {
   "cell_type": "code",
   "execution_count": 237,
   "id": "dbbfe779-f335-465a-a997-18ea8e3dd859",
   "metadata": {},
   "outputs": [],
   "source": [
    "import nltk\n",
    "from nltk.stem.porter import PorterStemmer\n",
    "\n",
    "# Initialize Porter Stemmer\n",
    "ps = PorterStemmer()\n",
    "x = 0\n",
    "# Define stem function\n",
    "def stem(text):\n",
    "    y = []\n",
    "    for i in text.split():\n",
    "        y.append(ps.stem(i))\n",
    "    return \" \".join(y)\n",
    "\n",
    "# Assuming df is your DataFrame and 'tags' is a column in it\n",
    "df['tags'] = df['tags'].apply(stem)\n"
   ]
  },
  {
   "cell_type": "code",
   "execution_count": 238,
   "id": "d8959042-ff7b-4c94-89d9-757b190a38ef",
   "metadata": {},
   "outputs": [
    {
     "data": {
      "text/plain": [
       "'stepanek matti j tcollect poem written by the elevenyearold muscular dystrophi patient share hi feel and thought about hi life the death of hi sibl natur faith and hope poetri generalvsp book'"
      ]
     },
     "execution_count": 238,
     "metadata": {},
     "output_type": "execute_result"
    }
   ],
   "source": [
    "df['tags'][0]"
   ]
  },
  {
   "cell_type": "code",
   "execution_count": 239,
   "id": "aaeb8ee9-6ace-41aa-aa57-31ec21428d5b",
   "metadata": {},
   "outputs": [],
   "source": [
    "from sklearn.feature_extraction.text import CountVectorizer\n",
    "cv = CountVectorizer(max_features = 5000,stop_words = 'english')"
   ]
  },
  {
   "cell_type": "code",
   "execution_count": 240,
   "id": "da4a854c-3b0a-4a21-aeb4-8d162b05621a",
   "metadata": {},
   "outputs": [],
   "source": [
    "vectors = cv.fit_transform(df['tags']).toarray()"
   ]
  },
  {
   "cell_type": "code",
   "execution_count": 241,
   "id": "8e057816-ae30-48b7-bdd8-dca4dd911a45",
   "metadata": {},
   "outputs": [
    {
     "data": {
      "text/plain": [
       "(18758, 5000)"
      ]
     },
     "execution_count": 241,
     "metadata": {},
     "output_type": "execute_result"
    }
   ],
   "source": [
    "vectors.shape"
   ]
  },
  {
   "cell_type": "code",
   "execution_count": 242,
   "id": "36577dea-f8a4-4b67-92d9-08d6d53e8bcb",
   "metadata": {},
   "outputs": [],
   "source": [
    "from sklearn.metrics.pairwise import cosine_similarity"
   ]
  },
  {
   "cell_type": "code",
   "execution_count": 243,
   "id": "de3a9780-8487-472f-b1d0-fec40637e6e9",
   "metadata": {},
   "outputs": [],
   "source": [
    "similarity = cosine_similarity(vectors)"
   ]
  },
  {
   "cell_type": "code",
   "execution_count": 244,
   "id": "5e39b81d-5e54-40b6-b387-0d289df34588",
   "metadata": {},
   "outputs": [
    {
     "data": {
      "text/plain": [
       "array([1.        , 0.04445542, 0.07881104, ..., 0.        , 0.13650473,\n",
       "       0.04856071])"
      ]
     },
     "execution_count": 244,
     "metadata": {},
     "output_type": "execute_result"
    }
   ],
   "source": [
    "similarity[0]"
   ]
  },
  {
   "cell_type": "code",
   "execution_count": 254,
   "id": "e0cd65a0-036b-4721-8f52-c201293d0d35",
   "metadata": {},
   "outputs": [],
   "source": [
    "def recommend(book):\n",
    "    book_index = df[df['Title']==book].index[0]\n",
    "    distances = similarity[book_index]\n",
    "    book_list = sorted(list(enumerate(distances)), reverse=True, key=lambda x:x[1])[1:5]\n",
    "    for i in book_list:\n",
    "        print(i[0])"
   ]
  },
  {
   "cell_type": "code",
   "execution_count": 261,
   "id": "d4d6387f-0b87-48a5-bdad-e2173458b9eb",
   "metadata": {},
   "outputs": [
    {
     "data": {
      "text/html": [
       "<div>\n",
       "<style scoped>\n",
       "    .dataframe tbody tr th:only-of-type {\n",
       "        vertical-align: middle;\n",
       "    }\n",
       "\n",
       "    .dataframe tbody tr th {\n",
       "        vertical-align: top;\n",
       "    }\n",
       "\n",
       "    .dataframe thead th {\n",
       "        text-align: right;\n",
       "    }\n",
       "</style>\n",
       "<table border=\"1\" class=\"dataframe\">\n",
       "  <thead>\n",
       "    <tr style=\"text-align: right;\">\n",
       "      <th></th>\n",
       "      <th>Title</th>\n",
       "      <th>Authors</th>\n",
       "      <th>Description</th>\n",
       "      <th>Category</th>\n",
       "      <th>Publisher</th>\n",
       "      <th>tags</th>\n",
       "      <th>tags_list</th>\n",
       "    </tr>\n",
       "  </thead>\n",
       "  <tbody>\n",
       "    <tr>\n",
       "      <th>0</th>\n",
       "      <td>Journey Through Heartsongs</td>\n",
       "      <td>By Stepanek, Mattie J. T.</td>\n",
       "      <td>Collects poems written by the eleven-year-old ...</td>\n",
       "      <td>Poetry , General</td>\n",
       "      <td>VSP Books</td>\n",
       "      <td>stepanek matti j tcollect poem written by the ...</td>\n",
       "      <td>[Stepanek, Mattie, J, TCollects, poems, writte...</td>\n",
       "    </tr>\n",
       "    <tr>\n",
       "      <th>1</th>\n",
       "      <td>In Search of Melancholy Baby</td>\n",
       "      <td>By Aksyonov, Vassily, Heim, Michael Henry, and...</td>\n",
       "      <td>The Russian author offers an affectionate chro...</td>\n",
       "      <td>Biography &amp; Autobiography , General</td>\n",
       "      <td>Random House</td>\n",
       "      <td>aksyonov vassili heim michael henri and boui a...</td>\n",
       "      <td>[Aksyonov, Vassily, Heim, Michael, Henry, and,...</td>\n",
       "    </tr>\n",
       "    <tr>\n",
       "      <th>2</th>\n",
       "      <td>The Dieter's Guide to Weight Loss During Sex</td>\n",
       "      <td>By Smith, Richard</td>\n",
       "      <td>A humor classic, this tongue-in-cheek diet pla...</td>\n",
       "      <td>Health &amp; Fitness , Diet &amp; Nutrition , Diets</td>\n",
       "      <td>Workman Publishing Company</td>\n",
       "      <td>smith richarda humor classic thi tongueincheek...</td>\n",
       "      <td>[Smith, RichardA, humor, classic, this, tongue...</td>\n",
       "    </tr>\n",
       "    <tr>\n",
       "      <th>3</th>\n",
       "      <td>Germs : Biological Weapons and America's Secre...</td>\n",
       "      <td>By Miller, Judith, Engelberg, Stephen, and Bro...</td>\n",
       "      <td>Deadly germs sprayed in shopping malls, bomb-l...</td>\n",
       "      <td>Technology &amp; Engineering , Military Science</td>\n",
       "      <td>Simon &amp; Schuster</td>\n",
       "      <td>miller judith engelberg stephen and broad will...</td>\n",
       "      <td>[Miller, Judith, Engelberg, Stephen, and, Broa...</td>\n",
       "    </tr>\n",
       "    <tr>\n",
       "      <th>4</th>\n",
       "      <td>The Good Book: Reading the Bible with Mind and...</td>\n",
       "      <td>By Gomes, Peter J.</td>\n",
       "      <td>\"The Bible and the social and moral consequenc...</td>\n",
       "      <td>Religion , Biblical Biography , General</td>\n",
       "      <td>Harper Perennial</td>\n",
       "      <td>gome peter jthe bibl and the social and moral ...</td>\n",
       "      <td>[Gomes, Peter, JThe, Bible, and, the, social, ...</td>\n",
       "    </tr>\n",
       "  </tbody>\n",
       "</table>\n",
       "</div>"
      ],
      "text/plain": [
       "                                               Title  \\\n",
       "0                         Journey Through Heartsongs   \n",
       "1                       In Search of Melancholy Baby   \n",
       "2       The Dieter's Guide to Weight Loss During Sex   \n",
       "3  Germs : Biological Weapons and America's Secre...   \n",
       "4  The Good Book: Reading the Bible with Mind and...   \n",
       "\n",
       "                                             Authors  \\\n",
       "0                          By Stepanek, Mattie J. T.   \n",
       "1  By Aksyonov, Vassily, Heim, Michael Henry, and...   \n",
       "2                                  By Smith, Richard   \n",
       "3  By Miller, Judith, Engelberg, Stephen, and Bro...   \n",
       "4                                 By Gomes, Peter J.   \n",
       "\n",
       "                                         Description  \\\n",
       "0  Collects poems written by the eleven-year-old ...   \n",
       "1  The Russian author offers an affectionate chro...   \n",
       "2  A humor classic, this tongue-in-cheek diet pla...   \n",
       "3  Deadly germs sprayed in shopping malls, bomb-l...   \n",
       "4  \"The Bible and the social and moral consequenc...   \n",
       "\n",
       "                                       Category                   Publisher  \\\n",
       "0                              Poetry , General                   VSP Books   \n",
       "1           Biography & Autobiography , General                Random House   \n",
       "2   Health & Fitness , Diet & Nutrition , Diets  Workman Publishing Company   \n",
       "3   Technology & Engineering , Military Science            Simon & Schuster   \n",
       "4       Religion , Biblical Biography , General            Harper Perennial   \n",
       "\n",
       "                                                tags  \\\n",
       "0  stepanek matti j tcollect poem written by the ...   \n",
       "1  aksyonov vassili heim michael henri and boui a...   \n",
       "2  smith richarda humor classic thi tongueincheek...   \n",
       "3  miller judith engelberg stephen and broad will...   \n",
       "4  gome peter jthe bibl and the social and moral ...   \n",
       "\n",
       "                                           tags_list  \n",
       "0  [Stepanek, Mattie, J, TCollects, poems, writte...  \n",
       "1  [Aksyonov, Vassily, Heim, Michael, Henry, and,...  \n",
       "2  [Smith, RichardA, humor, classic, this, tongue...  \n",
       "3  [Miller, Judith, Engelberg, Stephen, and, Broa...  \n",
       "4  [Gomes, Peter, JThe, Bible, and, the, social, ...  "
      ]
     },
     "execution_count": 261,
     "metadata": {},
     "output_type": "execute_result"
    }
   ],
   "source": [
    "df.head()"
   ]
  },
  {
   "cell_type": "code",
   "execution_count": 278,
   "id": "d05ec3f0-cb5a-4d99-a86b-f8eee2124115",
   "metadata": {},
   "outputs": [
    {
     "data": {
      "text/plain": [
       "Category              Political Science , Civil Rights\n",
       "Title       Shakedown: Exposing The Real Jesse Jackson\n",
       "Name: 220, dtype: object"
      ]
     },
     "execution_count": 278,
     "metadata": {},
     "output_type": "execute_result"
    }
   ],
   "source": [
    "df[['Category', 'Title']].iloc[220]"
   ]
  },
  {
   "cell_type": "code",
   "execution_count": 283,
   "id": "f3777a4a-7b2c-4102-bca7-3055e963b80b",
   "metadata": {},
   "outputs": [
    {
     "data": {
      "text/plain": [
       "Category     Political Science , Political Process , Polit...\n",
       "Title       Crashing the Gate: Netroots, Grassroots, and t...\n",
       "Name: 15065, dtype: object"
      ]
     },
     "execution_count": 283,
     "metadata": {},
     "output_type": "execute_result"
    }
   ],
   "source": [
    "df[['Category', 'Title']].iloc[15060]"
   ]
  },
  {
   "cell_type": "code",
   "execution_count": 279,
   "id": "e6428224-bbc8-4dae-9412-84dfc67155de",
   "metadata": {},
   "outputs": [
    {
     "name": "stdout",
     "output_type": "stream",
     "text": [
      "13279\n",
      "12926\n",
      "3052\n",
      "15060\n"
     ]
    }
   ],
   "source": [
    "recommend(\"Shakedown: Exposing The Real Jesse Jackson\")"
   ]
  },
  {
   "cell_type": "code",
   "execution_count": null,
   "id": "47f3fb03-6d09-4c59-bff5-a9863789b801",
   "metadata": {},
   "outputs": [],
   "source": []
  }
 ],
 "metadata": {
  "kernelspec": {
   "display_name": "Python 3 (ipykernel)",
   "language": "python",
   "name": "python3"
  },
  "language_info": {
   "codemirror_mode": {
    "name": "ipython",
    "version": 3
   },
   "file_extension": ".py",
   "mimetype": "text/x-python",
   "name": "python",
   "nbconvert_exporter": "python",
   "pygments_lexer": "ipython3",
   "version": "3.12.0"
  }
 },
 "nbformat": 4,
 "nbformat_minor": 5
}
